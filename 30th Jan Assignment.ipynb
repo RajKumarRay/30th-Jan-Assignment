{
 "cells": [
  {
   "cell_type": "markdown",
   "id": "477e9645-27c3-4c6b-89a1-32272949b096",
   "metadata": {},
   "source": [
    "Question 1:"
   ]
  },
  {
   "cell_type": "code",
   "execution_count": 1,
   "id": "bc564d9e-1ae2-46c0-ae51-6f138e38eb7b",
   "metadata": {},
   "outputs": [
    {
     "name": "stdin",
     "output_type": "stream",
     "text": [
      "enter the percentage 50\n"
     ]
    },
    {
     "name": "stdout",
     "output_type": "stream",
     "text": [
      "D\n"
     ]
    }
   ],
   "source": [
    "# Answer:\n",
    "\n",
    "percentage=int(input(\"enter the percentage\"))\n",
    "if(percentage>90):\n",
    "    print(\"A\")\n",
    "elif(percentage>80 and percentage<=90):\n",
    "    print(\"B\")\n",
    "elif(percentage>=60 and percentage<=80):\n",
    "    print(\"C\")\n",
    "else:\n",
    "    print(\"D\")"
   ]
  },
  {
   "cell_type": "markdown",
   "id": "caa05429-043b-4fc3-bdef-e2b4fe5f5e62",
   "metadata": {},
   "source": [
    "Question 2:"
   ]
  },
  {
   "cell_type": "code",
   "execution_count": 2,
   "id": "3a426c16-204a-4da3-a536-0bcad3db0306",
   "metadata": {},
   "outputs": [
    {
     "name": "stdin",
     "output_type": "stream",
     "text": [
      "enter the cost price 25360\n"
     ]
    },
    {
     "name": "stdout",
     "output_type": "stream",
     "text": [
      "5%\n"
     ]
    }
   ],
   "source": [
    "# Answer:\n",
    "\n",
    "cp=int(input(\"enter the cost price\"))\n",
    "if(cp>100000):\n",
    "    print(\"15%\")\n",
    "elif(cp>50000 and cp<=100000):\n",
    "    print(\"10%\")\n",
    "elif(cp<=50000):\n",
    "    print(\"5%\")"
   ]
  },
  {
   "cell_type": "markdown",
   "id": "1d36ed16-423d-4969-86d7-53ef274a3a58",
   "metadata": {},
   "source": [
    "Question 3:"
   ]
  },
  {
   "cell_type": "code",
   "execution_count": 3,
   "id": "f0cdbfc2-da3a-4ce6-968d-ec7fcf93b604",
   "metadata": {},
   "outputs": [
    {
     "name": "stdin",
     "output_type": "stream",
     "text": [
      "enter the City Delhi\n"
     ]
    },
    {
     "name": "stdout",
     "output_type": "stream",
     "text": [
      "Red Fort\n"
     ]
    }
   ],
   "source": [
    "#Answer:\n",
    "\n",
    "city=input(\"enter the City\")\n",
    "if(city==\"Delhi\"):\n",
    "    print(\"Red Fort\")\n",
    "elif(city==\"Agra\"):\n",
    "    print(\"Taj Mahal\")\n",
    "elif(city==\"Jaipur\"):\n",
    "    print(\"Jal Mahal\")"
   ]
  },
  {
   "cell_type": "markdown",
   "id": "845ee77a-e2ca-4dd3-b55a-4677a7562b24",
   "metadata": {},
   "source": [
    "Question 4:\n",
    "\n",
    "check how many times a given number can be divisible by 3 before it is less than or equal to 10?"
   ]
  },
  {
   "cell_type": "code",
   "execution_count": 4,
   "id": "a3987d11-0d20-454e-9cd4-82e045749c37",
   "metadata": {},
   "outputs": [
    {
     "name": "stdin",
     "output_type": "stream",
     "text": [
      "enter the number 5654\n"
     ]
    },
    {
     "name": "stdout",
     "output_type": "stream",
     "text": [
      "0\n"
     ]
    }
   ],
   "source": [
    "number=int(input(\"enter the number\"))\n",
    "count=0\n",
    "while(number>10):\n",
    "    if(number%3==0):\n",
    "        count+=1;\n",
    "    else:\n",
    "        break\n",
    "    number=number/3\n",
    "print(count)"
   ]
  },
  {
   "cell_type": "markdown",
   "id": "e11e71a7-7a37-4387-b86f-84ce6e5b8a51",
   "metadata": {},
   "source": [
    "Question 5:\n",
    "why and when to use nested loop in python give a detailed description with example?\n",
    "\n",
    "Answer:\n",
    "\n",
    "A nested while loop is basically a while statement inside another while statement. In a nested while loop, one iteration of the outer loop first executes, after which the inner loop executes. When the condition of the inner loop gets satisfied, the program moves to the next iteration of the outer loop.\n",
    "\n",
    "\n",
    "Example: Finding the prime number in the range (4,100)."
   ]
  },
  {
   "cell_type": "code",
   "execution_count": 5,
   "id": "6ce4ef3d-b34d-4393-b44e-7d417e1c7d9a",
   "metadata": {},
   "outputs": [
    {
     "name": "stdout",
     "output_type": "stream",
     "text": [
      "5 7 11 13 17 19 23 29 31 37 41 43 47 53 59 61 67 71 73 79 83 89 97 "
     ]
    }
   ],
   "source": [
    "#Finding all the prime in the range of 4 to 100.\n",
    "\n",
    "i=4\n",
    "while (i<100):\n",
    "    flag=0\n",
    "    j=2\n",
    "    while(j<i):\n",
    "        if(i%j==0):\n",
    "            flag=1\n",
    "            break\n",
    "        j+=1\n",
    "    if(flag==0):\n",
    "        print(i,end=\" \")\n",
    "    i+=1\n",
    "        \n",
    "        "
   ]
  },
  {
   "cell_type": "markdown",
   "id": "c6eae268-9a96-44a5-b467-eb457993abf2",
   "metadata": {},
   "source": [
    "Question 6:"
   ]
  },
  {
   "cell_type": "code",
   "execution_count": 7,
   "id": "f72243f7-2768-4c2f-9e22-69113e5c480a",
   "metadata": {},
   "outputs": [
    {
     "name": "stdout",
     "output_type": "stream",
     "text": [
      "1 \n",
      "1 2 \n",
      "1 2 3 \n"
     ]
    }
   ],
   "source": [
    "#Answer:\n",
    "\n",
    "i=0\n",
    "while(i<3):\n",
    "    j=0\n",
    "    while(j<=i):\n",
    "        print(j+1,end=\" \")\n",
    "        j+=1\n",
    "    i+=1\n",
    "    print()"
   ]
  },
  {
   "cell_type": "code",
   "execution_count": 9,
   "id": "f9942036-ce6f-408d-ae03-4316901facff",
   "metadata": {},
   "outputs": [
    {
     "name": "stdout",
     "output_type": "stream",
     "text": [
      "1 2 3 \n",
      "1 2 \n",
      "1 \n"
     ]
    }
   ],
   "source": [
    "#Answer:\n",
    "\n",
    "i=0\n",
    "while(i<3):\n",
    "    j=0\n",
    "    while(j<3-i):\n",
    "        print(j+1,end=\" \")\n",
    "        j+=1\n",
    "    i+=1\n",
    "    print()"
   ]
  },
  {
   "cell_type": "code",
   "execution_count": 12,
   "id": "340b2f8e-5baa-413f-9af0-097453341069",
   "metadata": {},
   "outputs": [
    {
     "name": "stdout",
     "output_type": "stream",
     "text": [
      "1 \n",
      "2 3 \n",
      "4 5 6 \n",
      "7 8 9 10 \n",
      "11 12 13 14 15 \n"
     ]
    }
   ],
   "source": [
    "#Answer:\n",
    "\n",
    "i,k=0,1\n",
    "while(i<5):\n",
    "    j=0\n",
    "    while(j<=i):\n",
    "        print(k,end=\" \")\n",
    "        j+=1\n",
    "        k+=1\n",
    "    i+=1\n",
    "    print()"
   ]
  },
  {
   "cell_type": "markdown",
   "id": "bc53f3cb-8709-4389-96b1-1b88e17021f9",
   "metadata": {},
   "source": [
    "Question 7:\n",
    "\n",
    "Reverse a while loop to display number from 10 to 1"
   ]
  },
  {
   "cell_type": "code",
   "execution_count": 14,
   "id": "1582e7e2-5245-4005-8d7e-51d4e6ccca68",
   "metadata": {},
   "outputs": [
    {
     "name": "stdout",
     "output_type": "stream",
     "text": [
      "10 9 8 7 6 5 4 3 2 1 "
     ]
    }
   ],
   "source": [
    "i=0\n",
    "while(i<10):\n",
    "    print(10-i,end=\" \")\n",
    "    i=i+1"
   ]
  },
  {
   "cell_type": "markdown",
   "id": "c4b5216b-85af-4c1b-b243-f3ae7c3e28e4",
   "metadata": {},
   "source": [
    "Questin 8:\n",
    "    \n",
    "Reverse a while loop to display number from 10 to 1"
   ]
  },
  {
   "cell_type": "code",
   "execution_count": null,
   "id": "cc00b86a-9096-4492-b314-c1861f7de8d6",
   "metadata": {},
   "outputs": [],
   "source": [
    "i=0\n",
    "while(i<10):\n",
    "    print(10-i,end=\" \")\n",
    "    i=i+1"
   ]
  }
 ],
 "metadata": {
  "kernelspec": {
   "display_name": "Python 3 (ipykernel)",
   "language": "python",
   "name": "python3"
  },
  "language_info": {
   "codemirror_mode": {
    "name": "ipython",
    "version": 3
   },
   "file_extension": ".py",
   "mimetype": "text/x-python",
   "name": "python",
   "nbconvert_exporter": "python",
   "pygments_lexer": "ipython3",
   "version": "3.10.8"
  }
 },
 "nbformat": 4,
 "nbformat_minor": 5
}
